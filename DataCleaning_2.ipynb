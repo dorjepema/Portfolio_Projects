{
  "nbformat": 4,
  "nbformat_minor": 0,
  "metadata": {
    "colab": {
      "provenance": [],
      "authorship_tag": "ABX9TyOjxQVMMEC1RoUMxIy1tMqd",
      "include_colab_link": true
    },
    "kernelspec": {
      "name": "python3",
      "display_name": "Python 3"
    },
    "language_info": {
      "name": "python"
    }
  },
  "cells": [
    {
      "cell_type": "markdown",
      "metadata": {
        "id": "view-in-github",
        "colab_type": "text"
      },
      "source": [
        "<a href=\"https://colab.research.google.com/github/dorjepema/Portfolio_Projects/blob/main/DataCleaning_2.ipynb\" target=\"_parent\"><img src=\"https://colab.research.google.com/assets/colab-badge.svg\" alt=\"Open In Colab\"/></a>"
      ]
    },
    {
      "cell_type": "code",
      "execution_count": 84,
      "metadata": {
        "id": "ciZKzuzyRCtu"
      },
      "outputs": [],
      "source": [
        "#Importing Libraries\n",
        "import pandas as pd\n",
        "import numpy as np\n"
      ]
    },
    {
      "cell_type": "code",
      "source": [
        "#Reading a data\n",
        "df=pd.read_csv('PD 2024 Wk 1 Input.csv')\n",
        "df"
      ],
      "metadata": {
        "id": "l8cL_6-_RiF5"
      },
      "execution_count": null,
      "outputs": []
    },
    {
      "cell_type": "code",
      "source": [
        "#Removing duplicates\n",
        "df=df.drop_duplicates()\n"
      ],
      "metadata": {
        "id": "F2EkB-m3WX62"
      },
      "execution_count": 86,
      "outputs": []
    },
    {
      "cell_type": "code",
      "source": [
        "#Splitting Address into Date, Flight_Num, Location, Class, and Price\n",
        "df[['Date','Flight_Num','Location','Class','Price']]=df['Flight Details'].str.split('//',expand=True)\n",
        "#Dropping Flight Details column which has already been splitted\n",
        "df=df.drop(columns='Flight Details')\n",
        "df\n"
      ],
      "metadata": {
        "id": "KrayfsjQR89v"
      },
      "execution_count": null,
      "outputs": []
    },
    {
      "cell_type": "code",
      "source": [
        "#Further Splitting Location from Flight Details to 'From'and 'To'\n",
        "df[['From','To']]=df['Location'].str.split('-', expand=True)\n",
        "#Dropping Location which has been splitted to 'From'and 'To'\n",
        "df=df.drop(columns='Location')\n",
        "df"
      ],
      "metadata": {
        "id": "x14zkynXVKDN"
      },
      "execution_count": null,
      "outputs": []
    },
    {
      "cell_type": "code",
      "source": [
        "#Replacing Flow Card to Yes if 1 and No if 0\n",
        "df['Flow Card?']=df['Flow Card?'].replace(1,'Yes')\n",
        "df['Flow Card?']=df['Flow Card?'].replace(0,'No')\n",
        "df"
      ],
      "metadata": {
        "id": "asJsFttOWQos"
      },
      "execution_count": null,
      "outputs": []
    },
    {
      "cell_type": "code",
      "source": [
        "#Converting Date to data format\n",
        "df['Date'] = pd.to_datetime(df['Date'])\n",
        "df\n"
      ],
      "metadata": {
        "id": "wvma_4jvZ25p"
      },
      "execution_count": null,
      "outputs": []
    },
    {
      "cell_type": "code",
      "source": [
        "#Converting Price to numeric types so that we can perform round function to convert it to decimal value\n",
        "df['Price'] = pd.to_numeric(df['Price'])\n",
        "#Performing round function and converting to decimal value\n",
        "df['Price']=df['Price'].apply(lambda x: round(x))"
      ],
      "metadata": {
        "id": "U_PGQKi1lE-W"
      },
      "execution_count": 91,
      "outputs": []
    },
    {
      "cell_type": "code",
      "source": [
        "#Filtering dataframe wtih Yes Flow Card\n",
        "df_yes=df[df['Flow Card?']== \"Yes\"]\n",
        "df_yes\n",
        "#Exporting the data frame with yes Flow Card to csv file\n",
        "df_yes.to_csv('FlowCardYesOutput', sep=',', index=False, encoding='utf-8')\n"
      ],
      "metadata": {
        "id": "-0FE4ntGcZzt"
      },
      "execution_count": 97,
      "outputs": []
    },
    {
      "cell_type": "code",
      "source": [
        "#Filtering dataframe wtih No Flow Card\n",
        "df_no=df[df['Flow Card?']== \"No\"]\n",
        "df_no\n",
        "#Exporting the data frame with yes Flow Card to csv file\n",
        "df_no.to_csv('FlowCardNoOutput', sep=',', index=False, encoding='utf-8')\n"
      ],
      "metadata": {
        "id": "NG-Pl-B2dxHK"
      },
      "execution_count": 98,
      "outputs": []
    }
  ]
}